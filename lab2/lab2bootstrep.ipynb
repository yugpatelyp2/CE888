{
  "nbformat": 4,
  "nbformat_minor": 0,
  "metadata": {
    "colab": {
      "name": "lab2bootstrep.ipynb",
      "provenance": [],
      "authorship_tag": "ABX9TyNx6UAoVVrnfdZwNgBwI8mO",
      "include_colab_link": true
    },
    "kernelspec": {
      "name": "python3",
      "display_name": "Python 3"
    },
    "language_info": {
      "name": "python"
    }
  },
  "cells": [
    {
      "cell_type": "markdown",
      "metadata": {
        "id": "view-in-github",
        "colab_type": "text"
      },
      "source": [
        "<a href=\"https://colab.research.google.com/github/yugpatelyp2/CE888/blob/main/lab2/lab2bootstrep.ipynb\" target=\"_parent\"><img src=\"https://colab.research.google.com/assets/colab-badge.svg\" alt=\"Open In Colab\"/></a>"
      ]
    },
    {
      "cell_type": "code",
      "metadata": {
        "id": "5w0SzJXIUv87"
      },
      "source": [
        "import numpy as np\n",
        "from scipy import stats\n",
        "from matplotlib import pyplot as plt"
      ],
      "execution_count": 1,
      "outputs": []
    },
    {
      "cell_type": "code",
      "metadata": {
        "colab": {
          "base_uri": "https://localhost:8080/",
          "height": 649
        },
        "id": "D0dFNiejU4BX",
        "outputId": "a1614eb2-6754-41f8-8fda-d65122700245"
      },
      "source": [
        "dem_share_PA = [60.08, 40.64, 36.07, 41.21, 31.04, 43.78, 44.08, 46.85, 44.71, 46.15, 63.10, 52.20, 43.18, 40.24, 39.92, 47.87, 37.77, 40.11, 49.85, 48.61, 38.62, 54.25, 34.84, 47.75, 43.82, 55.97, 58.23, 42.97, 42.38, 36.11, 37.53, 42.65, 50.96, 47.43, 56.24, 45.60, 46.39, 35.22, 48.56, 32.97, 57.88, 36.05, 37.72, 50.36, 32.12, 41.55, 54.66, 57.81, 54.58, 32.88, 54.37, 40.45, 47.61, 60.49, 43.11, 27.32, 44.03, 33.56, 37.26, 54.64, 43.12, 25.34, 49.79, 83.56, 40.09, 60.81, 49.81]\n",
        "dem_share_OH = [56.94, 50.46, 65.99, 45.88, 42.23, 45.26, 57.01, 53.61, 59.10, 61.48, 43.43, 44.69, 54.59, 48.36, 45.89, 48.62, 43.92, 38.23, 28.79, 63.57, 38.07, 40.18, 43.05, 41.56, 42.49, 36.06, 52.76, 46.07, 39.43, 39.26, 47.47, 27.92, 38.01, 45.45, 29.07, 28.94, 51.28, 50.10, 39.84, 36.43, 35.71, 31.47, 47.01, 40.10, 48.76, 31.56, 39.86, 45.31, 35.47, 51.38, 46.33, 48.73, 41.77, 41.32, 48.46, 53.14, 34.01, 54.74, 40.67, 38.96, 46.29, 38.25, 6.80, 31.75, 46.33, 44.90, 33.57, 38.10, 39.67, 40.47, 49.44, 37.62, 36.71, 46.73, 42.20, 53.16, 52.40, 58.36, 68.02, 38.53, 34.58, 69.64, 60.50, 53.53, 36.54, 49.58, 41.97, 38.11]\n",
        "print(\"Mean:\\t\\t\", round(np.mean(dem_share_PA),2))\n",
        "print(\"Median:\\t\\t\", round(np.median(dem_share_PA),2))\n",
        "print(\"SD:\\t\\t\", round(np.std(dem_share_PA),2))\n",
        "print(\"Sample Size:\\t\", len(dem_share_PA))\n",
        "plt.hist(dem_share_PA, bins=30, alpha=0.25)\n",
        "plt.grid()\n",
        "plt.show()\n",
        "print(\"Mean:\\t\\t\", round(np.mean(dem_share_OH),2))\n",
        "print(\"Median:\\t\\t\", round(np.median(dem_share_OH),2))\n",
        "print(\"SD:\\t\\t\", round(np.std(dem_share_OH),2))\n",
        "print(\"Sample Size:\\t\", len(dem_share_OH))\n",
        "plt.hist(dem_share_OH, bins=30, alpha=0.25)\n",
        "plt.grid()\n",
        "plt.show()"
      ],
      "execution_count": 2,
      "outputs": [
        {
          "output_type": "stream",
          "text": [
            "Mean:\t\t 45.48\n",
            "Median:\t\t 44.03\n",
            "SD:\t\t 9.73\n",
            "Sample Size:\t 67\n"
          ],
          "name": "stdout"
        },
        {
          "output_type": "display_data",
          "data": {
            "image/png": "[encoded data removed]",
            "text/plain": [
              "<Figure size 432x288 with 1 Axes>"
            ]
          },
          "metadata": {
            "tags": [],
            "needs_background": "light"
          }
        },
        {
          "output_type": "stream",
          "text": [
            "Mean:\t\t 44.32\n",
            "Median:\t\t 43.68\n",
            "SD:\t\t 9.84\n",
            "Sample Size:\t 88\n"
          ],
          "name": "stdout"
        },
        {
          "output_type": "display_data",
          "data": {
            "image/png": "[encoded data removed]",
            "text/plain": [
              "<Figure size 432x288 with 1 Axes>"
            ]
          },
          "metadata": {
            "tags": [],
            "needs_background": "light"
          }
        }
      ]
    },
    {
      "cell_type": "code",
      "metadata": {
        "colab": {
          "base_uri": "https://localhost:8080/",
          "height": 265
        },
        "id": "EkJg_bCMU-yc",
        "outputId": "f3cd1d0f-56b5-45ad-b42d-618576a2c6c6"
      },
      "source": [
        "# Lower Critical Value\n",
        "lcv = stats.norm.ppf(0.05)\n",
        "print(\"Lower CV:\", round(lcv,3))\n",
        "# Upper Critical Value\n",
        "ucv = stats.norm.ppf(1 - 0.05)\n",
        "print(\"Upper CV: \", round(ucv,3))\n",
        "sqrt(std(sample_1)^2 / len(sample_1) + std(sample_2)^2 / len(sample_2))\n",
        "se = np.sqrt( np.std(dem_share_PA)**2 / len(dem_share_PA) + np.std(dem_share_OH)**2 / len(dem_share_OH) )\n",
        "print(round(se,3))\n",
        "emp_diff_means = np.mean(dem_share_PA) - np.mean(dem_share_OH)\n",
        "print(round(emp_diff_means,3))\n",
        "lower_lim_an = emp_diff_means + lcv * se\n",
        "upper_lim_an = emp_diff_means + ucv * se\n",
        "print(round(lower_lim_an,3), 'to', round(upper_lim_an,3))"
      ],
      "execution_count": 3,
      "outputs": [
        {
          "output_type": "stream",
          "text": [
            "Lower CV: -1.645\n",
            "Upper CV:  1.645\n"
          ],
          "name": "stdout"
        },
        {
          "output_type": "error",
          "ename": "NameError",
          "evalue": "ignored",
          "traceback": [
            "\u001b[0;31m---------------------------------------------------------------------------\u001b[0m",
            "\u001b[0;31mNameError\u001b[0m                                 Traceback (most recent call last)",
            "\u001b[0;32m<ipython-input-3-22c0c7bcd027>\u001b[0m in \u001b[0;36m<module>\u001b[0;34m()\u001b[0m\n\u001b[1;32m      5\u001b[0m \u001b[0mucv\u001b[0m \u001b[0;34m=\u001b[0m \u001b[0mstats\u001b[0m\u001b[0;34m.\u001b[0m\u001b[0mnorm\u001b[0m\u001b[0;34m.\u001b[0m\u001b[0mppf\u001b[0m\u001b[0;34m(\u001b[0m\u001b[0;36m1\u001b[0m \u001b[0;34m-\u001b[0m \u001b[0;36m0.05\u001b[0m\u001b[0;34m)\u001b[0m\u001b[0;34m\u001b[0m\u001b[0;34m\u001b[0m\u001b[0m\n\u001b[1;32m      6\u001b[0m \u001b[0mprint\u001b[0m\u001b[0;34m(\u001b[0m\u001b[0;34m\"Upper CV: \"\u001b[0m\u001b[0;34m,\u001b[0m \u001b[0mround\u001b[0m\u001b[0;34m(\u001b[0m\u001b[0mucv\u001b[0m\u001b[0;34m,\u001b[0m\u001b[0;36m3\u001b[0m\u001b[0;34m)\u001b[0m\u001b[0;34m)\u001b[0m\u001b[0;34m\u001b[0m\u001b[0;34m\u001b[0m\u001b[0m\n\u001b[0;32m----> 7\u001b[0;31m \u001b[0msqrt\u001b[0m\u001b[0;34m(\u001b[0m\u001b[0mstd\u001b[0m\u001b[0;34m(\u001b[0m\u001b[0msample_1\u001b[0m\u001b[0;34m)\u001b[0m\u001b[0;34m^\u001b[0m\u001b[0;36m2\u001b[0m \u001b[0;34m/\u001b[0m \u001b[0mlen\u001b[0m\u001b[0;34m(\u001b[0m\u001b[0msample_1\u001b[0m\u001b[0;34m)\u001b[0m \u001b[0;34m+\u001b[0m \u001b[0mstd\u001b[0m\u001b[0;34m(\u001b[0m\u001b[0msample_2\u001b[0m\u001b[0;34m)\u001b[0m\u001b[0;34m^\u001b[0m\u001b[0;36m2\u001b[0m \u001b[0;34m/\u001b[0m \u001b[0mlen\u001b[0m\u001b[0;34m(\u001b[0m\u001b[0msample_2\u001b[0m\u001b[0;34m)\u001b[0m\u001b[0;34m)\u001b[0m\u001b[0;34m\u001b[0m\u001b[0;34m\u001b[0m\u001b[0m\n\u001b[0m\u001b[1;32m      8\u001b[0m \u001b[0mse\u001b[0m \u001b[0;34m=\u001b[0m \u001b[0mnp\u001b[0m\u001b[0;34m.\u001b[0m\u001b[0msqrt\u001b[0m\u001b[0;34m(\u001b[0m \u001b[0mnp\u001b[0m\u001b[0;34m.\u001b[0m\u001b[0mstd\u001b[0m\u001b[0;34m(\u001b[0m\u001b[0mdem_share_PA\u001b[0m\u001b[0;34m)\u001b[0m\u001b[0;34m**\u001b[0m\u001b[0;36m2\u001b[0m \u001b[0;34m/\u001b[0m \u001b[0mlen\u001b[0m\u001b[0;34m(\u001b[0m\u001b[0mdem_share_PA\u001b[0m\u001b[0;34m)\u001b[0m \u001b[0;34m+\u001b[0m \u001b[0mnp\u001b[0m\u001b[0;34m.\u001b[0m\u001b[0mstd\u001b[0m\u001b[0;34m(\u001b[0m\u001b[0mdem_share_OH\u001b[0m\u001b[0;34m)\u001b[0m\u001b[0;34m**\u001b[0m\u001b[0;36m2\u001b[0m \u001b[0;34m/\u001b[0m \u001b[0mlen\u001b[0m\u001b[0;34m(\u001b[0m\u001b[0mdem_share_OH\u001b[0m\u001b[0;34m)\u001b[0m \u001b[0;34m)\u001b[0m\u001b[0;34m\u001b[0m\u001b[0;34m\u001b[0m\u001b[0m\n\u001b[1;32m      9\u001b[0m \u001b[0mprint\u001b[0m\u001b[0;34m(\u001b[0m\u001b[0mround\u001b[0m\u001b[0;34m(\u001b[0m\u001b[0mse\u001b[0m\u001b[0;34m,\u001b[0m\u001b[0;36m3\u001b[0m\u001b[0;34m)\u001b[0m\u001b[0;34m)\u001b[0m\u001b[0;34m\u001b[0m\u001b[0;34m\u001b[0m\u001b[0m\n",
            "\u001b[0;31mNameError\u001b[0m: name 'sqrt' is not defined"
          ]
        }
      ]
    },
    {
      "cell_type": "code",
      "metadata": {
        "colab": {
          "base_uri": "https://localhost:8080/",
          "height": 350
        },
        "id": "BzPTqoEZVFKC",
        "outputId": "af55cf14-b109-4a39-ae5d-7c82a3f4f889"
      },
      "source": [
        "def boot_diff(sample_1, sample_2, base_stat_func, num_iter):\n",
        "    \n",
        "    # initialize the list for holding the bootstrap replicates\n",
        "    bs_replicates = []\n",
        "    # iterate for the specified number of bootstrapping iterations\n",
        "    for i in range(num_iter):\n",
        "        # create the resampled sets of data of the original lengths (WITH REPLACEMENT)\n",
        "        sample_1_bs = np.random.choice(sample_1, len(sample_1))\n",
        "        sample_2_bs = np.random.choice(sample_2, len(sample_2))\n",
        "        # compute the BS replicate using the specified base statistical function and append it to the list of BS replicates\n",
        "        bs_replicates += [base_stat_func(sample_1_bs) - base_stat_func(sample_2_bs)]\n",
        "        \n",
        "    return bs_replicate\n",
        "bs_replicates = boot_diff(dem_share_PA, dem_share_OH, np.mean, 100000)\n",
        "plt.hist(bs_replicates, bins=50, alpha = 0.25)\n",
        "plt.grid()\n",
        "plt.show()\n",
        "print(\"Mean:  \", round(np.mean(bs_replicates),3))\n",
        "print(\"Median:\", round(np.median(bs_replicates),3))"
      ],
      "execution_count": 4,
      "outputs": [
        {
          "output_type": "error",
          "ename": "NameError",
          "evalue": "ignored",
          "traceback": [
            "\u001b[0;31m---------------------------------------------------------------------------\u001b[0m",
            "\u001b[0;31mNameError\u001b[0m                                 Traceback (most recent call last)",
            "\u001b[0;32m<ipython-input-4-a0f74c64991b>\u001b[0m in \u001b[0;36m<module>\u001b[0;34m()\u001b[0m\n\u001b[1;32m     12\u001b[0m \u001b[0;34m\u001b[0m\u001b[0m\n\u001b[1;32m     13\u001b[0m     \u001b[0;32mreturn\u001b[0m \u001b[0mbs_replicate\u001b[0m\u001b[0;34m\u001b[0m\u001b[0;34m\u001b[0m\u001b[0m\n\u001b[0;32m---> 14\u001b[0;31m \u001b[0mbs_replicates\u001b[0m \u001b[0;34m=\u001b[0m \u001b[0mboot_diff\u001b[0m\u001b[0;34m(\u001b[0m\u001b[0mdem_share_PA\u001b[0m\u001b[0;34m,\u001b[0m \u001b[0mdem_share_OH\u001b[0m\u001b[0;34m,\u001b[0m \u001b[0mnp\u001b[0m\u001b[0;34m.\u001b[0m\u001b[0mmean\u001b[0m\u001b[0;34m,\u001b[0m \u001b[0;36m100000\u001b[0m\u001b[0;34m)\u001b[0m\u001b[0;34m\u001b[0m\u001b[0;34m\u001b[0m\u001b[0m\n\u001b[0m\u001b[1;32m     15\u001b[0m \u001b[0mplt\u001b[0m\u001b[0;34m.\u001b[0m\u001b[0mhist\u001b[0m\u001b[0;34m(\u001b[0m\u001b[0mbs_replicates\u001b[0m\u001b[0;34m,\u001b[0m \u001b[0mbins\u001b[0m\u001b[0;34m=\u001b[0m\u001b[0;36m50\u001b[0m\u001b[0;34m,\u001b[0m \u001b[0malpha\u001b[0m \u001b[0;34m=\u001b[0m \u001b[0;36m0.25\u001b[0m\u001b[0;34m)\u001b[0m\u001b[0;34m\u001b[0m\u001b[0;34m\u001b[0m\u001b[0m\n\u001b[1;32m     16\u001b[0m \u001b[0mplt\u001b[0m\u001b[0;34m.\u001b[0m\u001b[0mgrid\u001b[0m\u001b[0;34m(\u001b[0m\u001b[0;34m)\u001b[0m\u001b[0;34m\u001b[0m\u001b[0;34m\u001b[0m\u001b[0m\n",
            "\u001b[0;32m<ipython-input-4-a0f74c64991b>\u001b[0m in \u001b[0;36mboot_diff\u001b[0;34m(sample_1, sample_2, base_stat_func, num_iter)\u001b[0m\n\u001b[1;32m     11\u001b[0m         \u001b[0mbs_replicates\u001b[0m \u001b[0;34m+=\u001b[0m \u001b[0;34m[\u001b[0m\u001b[0mbase_stat_func\u001b[0m\u001b[0;34m(\u001b[0m\u001b[0msample_1_bs\u001b[0m\u001b[0;34m)\u001b[0m \u001b[0;34m-\u001b[0m \u001b[0mbase_stat_func\u001b[0m\u001b[0;34m(\u001b[0m\u001b[0msample_2_bs\u001b[0m\u001b[0;34m)\u001b[0m\u001b[0;34m]\u001b[0m\u001b[0;34m\u001b[0m\u001b[0;34m\u001b[0m\u001b[0m\n\u001b[1;32m     12\u001b[0m \u001b[0;34m\u001b[0m\u001b[0m\n\u001b[0;32m---> 13\u001b[0;31m     \u001b[0;32mreturn\u001b[0m \u001b[0mbs_replicate\u001b[0m\u001b[0;34m\u001b[0m\u001b[0;34m\u001b[0m\u001b[0m\n\u001b[0m\u001b[1;32m     14\u001b[0m \u001b[0mbs_replicates\u001b[0m \u001b[0;34m=\u001b[0m \u001b[0mboot_diff\u001b[0m\u001b[0;34m(\u001b[0m\u001b[0mdem_share_PA\u001b[0m\u001b[0;34m,\u001b[0m \u001b[0mdem_share_OH\u001b[0m\u001b[0;34m,\u001b[0m \u001b[0mnp\u001b[0m\u001b[0;34m.\u001b[0m\u001b[0mmean\u001b[0m\u001b[0;34m,\u001b[0m \u001b[0;36m100000\u001b[0m\u001b[0;34m)\u001b[0m\u001b[0;34m\u001b[0m\u001b[0;34m\u001b[0m\u001b[0m\n\u001b[1;32m     15\u001b[0m \u001b[0mplt\u001b[0m\u001b[0;34m.\u001b[0m\u001b[0mhist\u001b[0m\u001b[0;34m(\u001b[0m\u001b[0mbs_replicates\u001b[0m\u001b[0;34m,\u001b[0m \u001b[0mbins\u001b[0m\u001b[0;34m=\u001b[0m\u001b[0;36m50\u001b[0m\u001b[0;34m,\u001b[0m \u001b[0malpha\u001b[0m \u001b[0;34m=\u001b[0m \u001b[0;36m0.25\u001b[0m\u001b[0;34m)\u001b[0m\u001b[0;34m\u001b[0m\u001b[0;34m\u001b[0m\u001b[0m\n",
            "\u001b[0;31mNameError\u001b[0m: name 'bs_replicate' is not defined"
          ]
        }
      ]
    },
    {
      "cell_type": "code",
      "metadata": {
        "id": "kV8ocHiYVhwP"
      },
      "source": [
        "# the lower limit will be the 5th percentile\n",
        "lower_lim_bs = np.percentile(bs_replicates,5)\n",
        "# the upper limit will be the 95th percentile (5's complement to 100)\n",
        "upper_lim_bs = np.percentile(bs_replicates,95)\n",
        "print(round(lower_lim_bs,3), 'to', round(upper_lim_bs,3))\n",
        "BS_stat_mean +/- t * SE\n",
        "Zc = [(sample_mean_1 - sample_mean_2) - (hyp_difference)] / SE\n",
        "Zc = (emp_diff_means - 0) / 1.585\n",
        "print(round(Zc,3))\n",
        "bs_replicates = boot_diff(dem_share_PA, dem_share_OH, np.mean, 100000)\n",
        "bs_replicates_shifted = bs_replicates - np.mean(bs_replicates) - 0\n",
        "print(\"Replicate 25th percentile, mean, 75th percentile:\",\n",
        "      round(np.percentile(bs_replicates_shifted, 25),3), \n",
        "      round(np.mean(bs_replicates_shifted)+1e-4, 2), \n",
        "      round(np.percentile(bs_replicates_shifted, 75),3))\n",
        "print(\"Replicate Std Dev:\", round(np.std(bs_replicates_shifted),3)) # the analytical version is 1.585\n",
        "emp_diff_pctile_rnk = stats.percentileofscore(bs_replicates_shifted, emp_diff_means)\n",
        "print(\"Empirical difference of the sample means:\", round(emp_diff_means, 3))\n",
        "print(\"Its percentile rank among the replicates:\", round(emp_diff_pctile_rnk, 2), \"% (AUC to the left)\")\n",
        "auc_left = round(emp_diff_pctile_rnk / 100, 4)\n",
        "auc_rght = round(1 - emp_diff_pctile_rnk / 100, 4)\n",
        "print(\"AUC to the left:  \", auc_left)\n",
        "print(\"AUC to the right: \", auc_rght)\n",
        "auc_tail = auc_left if auc_left < auc_rght else auc_rght\n",
        "p_val = round(auc_tail * 2, 4)\n",
        "print(\"P-value:\", p_val)\n",
        "Zc = (emp_diff_means - (-2)) / 1.585\n",
        "print(round(Zc,4))\n",
        "round(stats.norm.ppf(0.9),4)"
      ],
      "execution_count": null,
      "outputs": []
    },
    {
      "cell_type": "code",
      "metadata": {
        "id": "_trwuRSeVJ_E"
      },
      "source": [
        "# use scipy.stats.norm.cdf(), which is the inverse of stats.norm.ppf()\n",
        "auc_left = round(stats.norm.cdf(1.9926), 4)\n",
        "print(\"AUC to the left:\", auc_left)\n",
        "p_val = 1 - auc_left\n",
        "print(\"P-value:\", p_val)\n",
        "bs_replicates = boot_diff(dem_share_PA, dem_share_OH, np.mean, 100000)\n",
        "bs_replicates_shifted = bs_replicates - np.mean(bs_replicates) - 2\n",
        "print(“Replicate 25th percentile, mean, 75th percentile:”,\n",
        " round(np.percentile(bs_replicates_shifted, 25),3), “~”,\n",
        " round(np.mean(bs_replicates_shifted)+1e-4, 2), “~”,\n",
        " round(np.percentile(bs_replicates_shifted, 75),3))\n",
        "print(“Replicate Std Dev:”, round(np.std(bs_replicates_shifted),3)) \n",
        "# the analytical version is 1.585\n",
        "emp_diff_pctile_rnk = stats.percentileofscore(bs_replicates_shifted, emp_diff_means)\n",
        "print(\"Empirical difference of the sample means:\", round(emp_diff_means, 3))\n",
        "print(\"Its percentile rank among the replicates:\", round(emp_diff_pctile_rnk, 2), \"% (AUC to the left)\")\n",
        "auc_left = round(emp_diff_pctile_rnk / 100, 4)\n",
        "auc_rght = round(1 - emp_diff_pctile_rnk / 100, 4)\n",
        "print(\"AUC to the left:  \", auc_left)\n",
        "print(\"AUC to the right: \", auc_rght)\n",
        "def perm_diff(sample_1, sample_2, base_stat_func, num_iter):\n",
        "    \n",
        "    # initialize the list for the test statistic replicate\n",
        "    perm_replicates = []\n",
        "    # iterate for the specified number of iterations\n",
        "    for i in range(num_iter):\n",
        "        # concatenate the two samples into one\n",
        "        samples_app = sample_1 + sample_2\n",
        "        # permute the entire appended set (making this complete combined resampling WITHOUT REPLACEMENT)\n",
        "        samples_perm = np.random.permutation(samples_app)\n",
        "        # create the hypothesized samples by:\n",
        "        #  pretending that the first len(sample_1) elements is the first sample\n",
        "        sample_1_hyp = samples_perm[:len(sample_1)]\n",
        "        #  and the rest is the second sample\n",
        "        sample_2_hyp = samples_perm[ len(sample_1):]\n",
        "        # compute the test statistic replicate and append it to the list of permutation replicates\n",
        "        perm_replicates += [base_stat_func(sample_1_hyp) - base_stat_func(sample_2_hyp)]\n",
        "return perm_replicates\n",
        "perm_replicates = perm_diff(dem_share_PA, dem_share_OH, np.mean, int(1e5))\n",
        "plt.hist(perm_replicates, bins=50, alpha=0.25)\n",
        "plt.grid()\n",
        "plt.show()"
      ],
      "execution_count": null,
      "outputs": []
    },
    {
      "cell_type": "code",
      "metadata": {
        "id": "z4F1B6enVXSu"
      },
      "source": [
        "# looking at the absolute values on both tails and comparing them to the absolute empirical value simultaneously\n",
        "p_val_2t_a = sum(np.abs(perm_replicates) >= abs(emp_diff_means)) / len(perm_replicates)\n",
        "print(round(p_val_2t_a, 4))\n",
        "# Get the percentile rank of the NEGATIVE ABSOLUTE empirical value and take it as-is (looking at the left tail)\n",
        "lt_p_val = stats.percentileofscore(perm_replicates, -abs(emp_diff_means) ) / 100\n",
        "# Get the percentile rank of the ABSOLUTE empirical value and take the complement of it (looking at the right tail)\n",
        "rt_p_val = 1 - stats.percentileofscore(perm_replicates, abs(emp_diff_means) ) / 100\n",
        "# Add the two half-values together\n",
        "p_val_2t_b = lt_p_val + rt_p_val\n",
        "print(round(p_val_2t_b, 4))\n",
        "# draw the raw random data for the control sample from a normal distribution\n",
        "np.random.seed(5)\n",
        "cs_raw = np.random.normal(loc=75.0, scale=9.0, size=100)\n",
        "# \"pivot\" the right tail around 100 with a multiplier \n",
        "# (there should not be many cases)\n",
        "cs = [score - (score - 100)*1.5 if score > 100 else score for score in cs_raw]\n",
        "# draw the raw random data for the treatment sample from a normal distribution \n",
        "# with a slightly larger mean and a significantly larger standard deviation than for the control sample\n",
        "# (it is expected that there will be quite a few instances here that go over 100)\n",
        "ts_raw = np.random.normal(loc=78.0, scale=13, size=100)"
      ],
      "execution_count": null,
      "outputs": []
    },
    {
      "cell_type": "code",
      "metadata": {
        "id": "g1SwphCOVbcc"
      },
      "source": [
        "# \"pivot\" the right tail around 100 with a multiplier, which caps the score at the max,\n",
        "# making the right tail much thicker and shorter\n",
        "ts = [score - (score - 100)*2.0 if score > 100 else score for score in ts_raw]\n",
        "fig = plt.gcf()\n",
        "fig.set_size_inches(16,8)\n",
        "plt.hist(cs, bins=20, alpha=0.15, label = 'control group')\n",
        "plt.hist(ts, bins=20, alpha=0.15, color='r', label = 'treatment group')\n",
        "plt.legend()\n",
        "plt.grid()\n",
        "plt.show()\n",
        "print(\"Control   mean, 10th, 25th, 50th, 75th, 90th pctiles:\", \n",
        "      round(np.mean(cs),2), \"~\", \n",
        "      round(np.percentile(cs,10),2), \"~\",\n",
        "      round(np.percentile(cs,25),2), \"~\",\n",
        "      round(np.percentile(cs,50),2), \"~\",\n",
        "      round(np.percentile(cs,75),2), \"~\",\n",
        "      round(np.percentile(cs,90),2))\n",
        "print(\"Treatment mean, 10th, 25th, 50th, 75th, 90th pctiles:\", \n",
        "      round(np.mean(ts),2), \"~\", \n",
        "      round(np.percentile(ts,10),2), \"~\",\n",
        "      round(np.percentile(ts,25),2), \"~\",\n",
        "      round(np.percentile(ts,50),2), \"~\",\n",
        "      round(np.percentile(ts,75),2), \"~\",\n",
        "      round(np.percentile(ts,90),2))\n",
        "boot_diff_mean_scores = boot_diff(ts, cs, np.mean, int(1e5))"
      ],
      "execution_count": null,
      "outputs": []
    },
    {
      "cell_type": "code",
      "metadata": {
        "id": "ry5qugADVRTM"
      },
      "source": [
        "# DON'T FORGET TO SHIFT TO THE HYPOTHESIZED MEAN (0 in this case)\n",
        "boot_diff_mean_scores = boot_diff_mean_scores - np.mean(boot_diff_mean_scores) + 0\n",
        "perm_diff_mean_scores = perm_diff(ts, cs, np.mean, int(1e5))\n",
        "fig = plt.gcf()\n",
        "fig.set_size_inches(10,5)\n",
        "plt.hist(boot_diff_mean_scores, bins=50, alpha=0.15, label = 'boot repl')\n",
        "plt.hist(perm_diff_mean_scores, bins=50, alpha=0.15, color='r', label = 'perm repl')\n",
        "plt.legend()\n",
        "plt.grid()\n",
        "plt.show()\n",
        "emp_val = np.mean(ts) - np.mean(cs)\n",
        "boot_p_val = 1 - stats.percentileofscore(boot_diff_mean_scores, emp_val)/100\n",
        "print(\"p-value by bootstrapping:\\t\", round(boot_p_val,5))\n",
        "perm_p_val = 1 - stats.percentileofscore(perm_diff_mean_scores, emp_val)/100\n",
        "print(\"p-value by permutation:\\t\\t\", round(perm_p_val,5))\n",
        "def low_quart_mean(arr):\n",
        "    first_percentile = np.percentile(arr, 25)\n",
        "    filt_arr = [x for x in arr if x <= first_percentile]\n",
        "    return np.mean(filt_arr)\n",
        "low_quart_mean(ts)\n",
        "low_quart_mean(cs)\n",
        "boot_diff_lqms = boot_diff(ts, cs, low_quart_mean, int(1e5))"
      ],
      "execution_count": null,
      "outputs": []
    },
    {
      "cell_type": "code",
      "metadata": {
        "id": "hmE0CvYnVOBr"
      },
      "source": [
        "# DON'T FORGET TO SHIFT TO THE HYPOTHESIZED MEAN (0 in this case)\n",
        "boot_diff_lqms = boot_diff_lqms - np.mean(boot_diff_lqms) + 0\n",
        "perm_diff_lqms = perm_diff(ts, cs, low_quart_mean, int(1e5))\n",
        "fig = plt.gcf()\n",
        "fig.set_size_inches(10,5)\n",
        "plt.hist(boot_diff_lqms, bins=50, alpha=0.15, label = 'boot repl')\n",
        "plt.hist(perm_diff_lqms, bins=50, alpha=0.15, color='r', label = 'perm repl')\n",
        "plt.legend()\n",
        "plt.grid()\n",
        "plt.show()\n",
        "emp_val = low_quart_mean(ts) - low_quart_mean(cs)\n",
        "boot_p_val = stats.percentileofscore(boot_diff_lqms, emp_val)/100\n",
        "print(\"p-value by bootstrapping:\\t\", round(boot_p_val,5))\n",
        "perm_p_val = stats.percentileofscore(perm_diff_lqms, emp_val)/100\n",
        "print(\"p-value by permutation:\\t\\t\", round(perm_p_val,5))\n"
      ],
      "execution_count": null,
      "outputs": []
    }
  ]
}