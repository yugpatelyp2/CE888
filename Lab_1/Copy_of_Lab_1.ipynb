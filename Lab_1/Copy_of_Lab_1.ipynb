{
  "nbformat": 4,
  "nbformat_minor": 0,
  "metadata": {
    "colab": {
      "name": "Copy of Lab_1.ipynb",
      "provenance": [],
      "include_colab_link": true
    },
    "kernelspec": {
      "name": "python3",
      "display_name": "Python 3"
    }
  },
  "cells": [
    {
      "cell_type": "markdown",
      "metadata": {
        "id": "view-in-github",
        "colab_type": "text"
      },
      "source": [
        "<a href=\"https://colab.research.google.com/github/yugpatelyp2/CE888/blob/main/Lab_1/Copy_of_Lab_1.ipynb\" target=\"_parent\"><img src=\"https://colab.research.google.com/assets/colab-badge.svg\" alt=\"Open In Colab\"/></a>"
      ]
    },
    {
      "cell_type": "markdown",
      "metadata": {
        "id": "6X-TO_KR1mjo"
      },
      "source": [
        "## Questions to be done during the lab:\n",
        "\n",
        "**Questions 1.** \n",
        "Write a function name 'avg', which take an array of number and calculate the average\n",
        "\n",
        "\n"
      ]
    },
    {
      "cell_type": "code",
      "metadata": {
        "id": "vbu3Vga33lw3",
        "colab": {
          "base_uri": "https://localhost:8080/"
        },
        "outputId": "3b4bcb73-f9e2-4296-fb89-71e02b36d7d3"
      },
      "source": [
        "import numpy as np\n",
        "def avg(marks):\n",
        "    # YOUR CODE HERE\n",
        "    avg=sum(marks)/len(marks)\n",
        "    return avg\n",
        "\n",
        "mark2 = [55,88,78,90,79]\n",
        "avg(mark2)"
      ],
      "execution_count": 57,
      "outputs": [
        {
          "output_type": "execute_result",
          "data": {
            "text/plain": [
              "78.0"
            ]
          },
          "metadata": {
            "tags": []
          },
          "execution_count": 57
        }
      ]
    },
    {
      "cell_type": "code",
      "metadata": {
        "id": "MtgR1Y695RpD"
      },
      "source": [
        "# Only run this cell to check your answer. If it is true then no error will be raised\n",
        "assert(avg(mark2) == np.mean(mark2))"
      ],
      "execution_count": 56,
      "outputs": []
    },
    {
      "cell_type": "markdown",
      "metadata": {
        "id": "W1hVtS896cfi"
      },
      "source": [
        "**Questions 2**.\n",
        "Write a function name 'areaCricle', which take radius as a argument and calculate the area. \n",
        "\n"
      ]
    },
    {
      "cell_type": "code",
      "metadata": {
        "id": "Fn7_nt8-vUao",
        "colab": {
          "base_uri": "https://localhost:8080/"
        },
        "outputId": "d9fb0593-af9e-494d-c223-5cad512e7aaf"
      },
      "source": [
        "from math import pi # Use pi value from math package\n",
        "def areaCricle(radius):\n",
        "    # YOUR CODE HERE\n",
        "    area=radius**2*pi\n",
        "    return area\n",
        "\n",
        "areaCricle(10)"
      ],
      "execution_count": 3,
      "outputs": [
        {
          "output_type": "execute_result",
          "data": {
            "text/plain": [
              "314.1592653589793"
            ]
          },
          "metadata": {
            "tags": []
          },
          "execution_count": 3
        }
      ]
    },
    {
      "cell_type": "code",
      "metadata": {
        "id": "BML90x25vikN"
      },
      "source": [
        "# Only run this cell to check your answer. If it is true then no error will be raised\n",
        "assert(round(areaCricle(10),2) == 314.16)"
      ],
      "execution_count": 4,
      "outputs": []
    },
    {
      "cell_type": "markdown",
      "metadata": {
        "id": "_EfKc7-3x2k8"
      },
      "source": [
        "**Question 3.**\n",
        "Write a function that takes a list of items and returns a new list with the order of items reversed, without using any inbuilt Python features that will do this for you (e.g. .reverse() or reversed(…)). As specified in the instructions, your function must not modify the contents of the original list."
      ]
    },
    {
      "cell_type": "code",
      "metadata": {
        "id": "rEtOO9yPyKwe",
        "colab": {
          "base_uri": "https://localhost:8080/"
        },
        "outputId": "8ab9b96a-cda0-48b8-b597-3f9f647509b0"
      },
      "source": [
        "def reversed_list(in_list):\n",
        "    # YOUR CODE HERE\n",
        "    NewList = []\n",
        "    count = len(in_list)-1\n",
        "    while count>= 0:\n",
        "      NewList.append(in_list[count])\n",
        "      count -= 1\n",
        "    return NewList  \n",
        "    raise NotImplementedError()\n",
        "reversed_list([1,2,3,4,5,6,7,8])"
      ],
      "execution_count": 22,
      "outputs": [
        {
          "output_type": "execute_result",
          "data": {
            "text/plain": [
              "[8, 7, 6, 5, 4, 3, 2, 1]"
            ]
          },
          "metadata": {
            "tags": []
          },
          "execution_count": 22
        }
      ]
    },
    {
      "cell_type": "code",
      "metadata": {
        "id": "bVyMOVMLyRib"
      },
      "source": [
        "# Only run this cell to check your answer. If it is true then no error will be raised\n",
        "assert(reversed_list([1, 2]) == [2, 1])"
      ],
      "execution_count": 23,
      "outputs": []
    },
    {
      "cell_type": "markdown",
      "metadata": {
        "id": "DFQPTbd90pPN"
      },
      "source": [
        "**Question 4.** \n",
        "\n",
        "*Read carefully: *Write a function to perform a Bubble Sort on a list of numbers. \n",
        "\n",
        "Bubble sort is a sorting algorithm and works by iterating over the list, comparing adjacent items, and swapping them if they are out of order.\n",
        "\n",
        "Notice that after the first pass of a bubble sort, the biggest item is always moved to the end of the list. This means the next iteration does not need to check the final position of the list.\n",
        "\n",
        "In addition, you can keep track of how many items were swapped on each iteration. If this count is zero on any iteration, then the list must be fully sorted, in which case the algorithm can stop early.\n",
        "\n",
        "Hint: To understand Bubble Sort Algorithm, please [Watch](https://www.youtube.com/watch?v=xli_FI7CuzA)"
      ]
    },
    {
      "cell_type": "code",
      "metadata": {
        "id": "sGkDiI3b1DpQ",
        "colab": {
          "base_uri": "https://localhost:8080/",
          "height": 129
        },
        "outputId": "5217f7e9-75f5-4fbd-f51e-a2a5acd16b3f"
      },
      "source": [
        "def bubble_sort(in_list):\n",
        "    # YOUR CODE HERE\n",
        "    n = len(in_list)\n",
        "    for j in range(n-1):\n",
        "      for k in range(0, n-j-1):\n",
        "        if (in_list[k]>in_list[k+1]):\n",
        "          in_list[k], in_list[k+1] = in_list[k+1], in_list[k]\n",
        "    return in_list\n",
        "    raise NotImplementedError()\n",
        "   bubble_sort([37, 42, 9, 19, 35, 4, 53, 22])"
      ],
      "execution_count": 59,
      "outputs": [
        {
          "output_type": "error",
          "ename": "IndentationError",
          "evalue": "ignored",
          "traceback": [
            "\u001b[0;36m  File \u001b[0;32m\"<ipython-input-59-b86447642140>\"\u001b[0;36m, line \u001b[0;32m10\u001b[0m\n\u001b[0;31m    bubble_sort([37, 42, 9, 19, 35, 4, 53, 22])\u001b[0m\n\u001b[0m                                               ^\u001b[0m\n\u001b[0;31mIndentationError\u001b[0m\u001b[0;31m:\u001b[0m unindent does not match any outer indentation level\n"
          ]
        }
      ]
    },
    {
      "cell_type": "code",
      "metadata": {
        "id": "ReCP5Nv_1ETF"
      },
      "source": [
        "# Only run this cell to check your answer. If it is true then no error will be raised\n",
        "assert(bubble_sort([37, 42, 9, 19, 35, 4, 53, 22]) == [4, 9, 19, 22, 35, 37, 42, 53])\n",
        "assert(bubble_sort([5, 4, 3, 2, 1]) == [1, 2, 3, 4, 5])"
      ],
      "execution_count": 33,
      "outputs": []
    },
    {
      "cell_type": "markdown",
      "metadata": {
        "id": "c6y0x8KsvySS"
      },
      "source": [
        "**Question 5.** \n",
        "\n",
        "Write a function to find $n^{th}$ Fibonacci number\n",
        "The Fibonacci numbers are the numbers in the following integer sequence.\n",
        "\n",
        "| 1  | 2 | 3  | 4 | 5  | 6 | 7  | 8 | 9 | 10 | 11 | 12 |\n",
        "| -- |-- | -- | --| -- | --| -- | --|-- | -- |-- |-- |\n",
        "| 0  | 1 | 1  | 2 | 3  | 5 | 8  | 13| 21| 34 |55 |89 |\n",
        "\n",
        "Please consider index starting from 1\n",
        "\n",
        "In mathematical terms, the sequence $F_n$ of Fibonacci numbers is defined by the recurrence relation \n",
        "\n",
        "$F_n = F_n-1 + F_n-2$\n",
        "\n",
        "with seed values \n",
        "\n",
        "$F_0 = 0$ and $F_1 = 1$\n"
      ]
    },
    {
      "cell_type": "code",
      "metadata": {
        "colab": {
          "base_uri": "https://localhost:8080/"
        },
        "id": "dlMnigUrvxb9",
        "outputId": "035334c5-d65e-4853-bb7d-13afcb2cad51"
      },
      "source": [
        "def Fibonacci(n):\n",
        "  N1, N2 = 0, 1\n",
        "  count = 0\n",
        "  if n <= 0:\n",
        "    print(\"Enter Positive Number\")\n",
        "  elif n == 1:\n",
        "    print(\"Fibonacci Sequence is\",n,\":\")\n",
        "    print(N1)\n",
        "  else:\n",
        "      while count < (n - 2):\n",
        "        num=N1+N2\n",
        "        N1=N2\n",
        "        N2=num\n",
        "        count=count+1\n",
        "  return N2 \n",
        "\n",
        "  raise NotImplementedError()\n",
        "\n",
        "Fibonacci(1)"
      ],
      "execution_count": 50,
      "outputs": [
        {
          "output_type": "stream",
          "text": [
            "Fibonacci Sequence is 1 :\n",
            "0\n"
          ],
          "name": "stdout"
        },
        {
          "output_type": "execute_result",
          "data": {
            "text/plain": [
              "1"
            ]
          },
          "metadata": {
            "tags": []
          },
          "execution_count": 50
        }
      ]
    },
    {
      "cell_type": "code",
      "metadata": {
        "id": "8OJv6zQKxzKj"
      },
      "source": [
        "# Only run this cell to check your answer. If it is true then no error will be raised\n",
        "assert(Fibonacci(7) == 8)\n",
        "assert(Fibonacci(9) == 21)"
      ],
      "execution_count": 48,
      "outputs": []
    }
  ]
}